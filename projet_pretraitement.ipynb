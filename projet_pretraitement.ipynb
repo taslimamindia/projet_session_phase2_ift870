{
 "cells": [
  {
   "cell_type": "markdown",
   "metadata": {},
   "source": [
    "# Membres de l'équipe 3:\n",
    "    - Mamadou Taslima Diallo (diam3602)\n",
    "    - Mariem Kallel (kalm7073)\n",
    "    - Mazen Ben Hmida (benm3414)\n",
    "    - Nour El Houda Taouali (taon1301)"
   ]
  },
  {
   "cell_type": "markdown",
   "metadata": {},
   "source": [
    "# Import des librairies utilisés."
   ]
  },
  {
   "cell_type": "code",
   "execution_count": 1,
   "metadata": {},
   "outputs": [],
   "source": [
    "import numpy as np\n",
    "import pandas as pd\n",
    "import seaborn as sns\n",
    "import plotly.express as px\n",
    "import matplotlib.pyplot as plt\n",
    "from sklearn.impute import KNNImputer\n",
    "from sklearn.experimental import enable_iterative_imputer\n",
    "from sklearn.impute import IterativeImputer"
   ]
  },
  {
   "cell_type": "markdown",
   "metadata": {},
   "source": [
    "# Recharge de l'ensemble des données."
   ]
  },
  {
   "cell_type": "code",
   "execution_count": 2,
   "metadata": {},
   "outputs": [
    {
     "data": {
      "text/html": [
       "<div>\n",
       "<style scoped>\n",
       "    .dataframe tbody tr th:only-of-type {\n",
       "        vertical-align: middle;\n",
       "    }\n",
       "\n",
       "    .dataframe tbody tr th {\n",
       "        vertical-align: top;\n",
       "    }\n",
       "\n",
       "    .dataframe thead th {\n",
       "        text-align: right;\n",
       "    }\n",
       "</style>\n",
       "<table border=\"1\" class=\"dataframe\">\n",
       "  <thead>\n",
       "    <tr style=\"text-align: right;\">\n",
       "      <th></th>\n",
       "      <th>country</th>\n",
       "      <th>year</th>\n",
       "      <th>iso_code</th>\n",
       "      <th>population</th>\n",
       "      <th>gdp</th>\n",
       "      <th>cement_co2</th>\n",
       "      <th>cement_co2_per_capita</th>\n",
       "      <th>co2</th>\n",
       "      <th>co2_growth_abs</th>\n",
       "      <th>co2_growth_prct</th>\n",
       "      <th>...</th>\n",
       "      <th>share_global_other_co2</th>\n",
       "      <th>share_of_temperature_change_from_ghg</th>\n",
       "      <th>temperature_change_from_ch4</th>\n",
       "      <th>temperature_change_from_co2</th>\n",
       "      <th>temperature_change_from_ghg</th>\n",
       "      <th>temperature_change_from_n2o</th>\n",
       "      <th>total_ghg</th>\n",
       "      <th>total_ghg_excluding_lucf</th>\n",
       "      <th>trade_co2</th>\n",
       "      <th>trade_co2_share</th>\n",
       "    </tr>\n",
       "  </thead>\n",
       "  <tbody>\n",
       "    <tr>\n",
       "      <th>0</th>\n",
       "      <td>Afghanistan</td>\n",
       "      <td>1850</td>\n",
       "      <td>AFG</td>\n",
       "      <td>3752993.0</td>\n",
       "      <td>NaN</td>\n",
       "      <td>NaN</td>\n",
       "      <td>NaN</td>\n",
       "      <td>NaN</td>\n",
       "      <td>NaN</td>\n",
       "      <td>NaN</td>\n",
       "      <td>...</td>\n",
       "      <td>NaN</td>\n",
       "      <td>NaN</td>\n",
       "      <td>NaN</td>\n",
       "      <td>NaN</td>\n",
       "      <td>NaN</td>\n",
       "      <td>NaN</td>\n",
       "      <td>NaN</td>\n",
       "      <td>NaN</td>\n",
       "      <td>NaN</td>\n",
       "      <td>NaN</td>\n",
       "    </tr>\n",
       "    <tr>\n",
       "      <th>1</th>\n",
       "      <td>Afghanistan</td>\n",
       "      <td>1851</td>\n",
       "      <td>AFG</td>\n",
       "      <td>3767956.0</td>\n",
       "      <td>NaN</td>\n",
       "      <td>NaN</td>\n",
       "      <td>NaN</td>\n",
       "      <td>NaN</td>\n",
       "      <td>NaN</td>\n",
       "      <td>NaN</td>\n",
       "      <td>...</td>\n",
       "      <td>NaN</td>\n",
       "      <td>0.165</td>\n",
       "      <td>0.000</td>\n",
       "      <td>0.000</td>\n",
       "      <td>0.000</td>\n",
       "      <td>0.0</td>\n",
       "      <td>NaN</td>\n",
       "      <td>NaN</td>\n",
       "      <td>NaN</td>\n",
       "      <td>NaN</td>\n",
       "    </tr>\n",
       "    <tr>\n",
       "      <th>2</th>\n",
       "      <td>Afghanistan</td>\n",
       "      <td>1852</td>\n",
       "      <td>AFG</td>\n",
       "      <td>3783940.0</td>\n",
       "      <td>NaN</td>\n",
       "      <td>NaN</td>\n",
       "      <td>NaN</td>\n",
       "      <td>NaN</td>\n",
       "      <td>NaN</td>\n",
       "      <td>NaN</td>\n",
       "      <td>...</td>\n",
       "      <td>NaN</td>\n",
       "      <td>0.164</td>\n",
       "      <td>0.000</td>\n",
       "      <td>0.000</td>\n",
       "      <td>0.000</td>\n",
       "      <td>0.0</td>\n",
       "      <td>NaN</td>\n",
       "      <td>NaN</td>\n",
       "      <td>NaN</td>\n",
       "      <td>NaN</td>\n",
       "    </tr>\n",
       "    <tr>\n",
       "      <th>3</th>\n",
       "      <td>Afghanistan</td>\n",
       "      <td>1853</td>\n",
       "      <td>AFG</td>\n",
       "      <td>3800954.0</td>\n",
       "      <td>NaN</td>\n",
       "      <td>NaN</td>\n",
       "      <td>NaN</td>\n",
       "      <td>NaN</td>\n",
       "      <td>NaN</td>\n",
       "      <td>NaN</td>\n",
       "      <td>...</td>\n",
       "      <td>NaN</td>\n",
       "      <td>0.164</td>\n",
       "      <td>0.000</td>\n",
       "      <td>0.000</td>\n",
       "      <td>0.000</td>\n",
       "      <td>0.0</td>\n",
       "      <td>NaN</td>\n",
       "      <td>NaN</td>\n",
       "      <td>NaN</td>\n",
       "      <td>NaN</td>\n",
       "    </tr>\n",
       "    <tr>\n",
       "      <th>4</th>\n",
       "      <td>Afghanistan</td>\n",
       "      <td>1854</td>\n",
       "      <td>AFG</td>\n",
       "      <td>3818038.0</td>\n",
       "      <td>NaN</td>\n",
       "      <td>NaN</td>\n",
       "      <td>NaN</td>\n",
       "      <td>NaN</td>\n",
       "      <td>NaN</td>\n",
       "      <td>NaN</td>\n",
       "      <td>...</td>\n",
       "      <td>NaN</td>\n",
       "      <td>0.163</td>\n",
       "      <td>0.000</td>\n",
       "      <td>0.000</td>\n",
       "      <td>0.000</td>\n",
       "      <td>0.0</td>\n",
       "      <td>NaN</td>\n",
       "      <td>NaN</td>\n",
       "      <td>NaN</td>\n",
       "      <td>NaN</td>\n",
       "    </tr>\n",
       "    <tr>\n",
       "      <th>...</th>\n",
       "      <td>...</td>\n",
       "      <td>...</td>\n",
       "      <td>...</td>\n",
       "      <td>...</td>\n",
       "      <td>...</td>\n",
       "      <td>...</td>\n",
       "      <td>...</td>\n",
       "      <td>...</td>\n",
       "      <td>...</td>\n",
       "      <td>...</td>\n",
       "      <td>...</td>\n",
       "      <td>...</td>\n",
       "      <td>...</td>\n",
       "      <td>...</td>\n",
       "      <td>...</td>\n",
       "      <td>...</td>\n",
       "      <td>...</td>\n",
       "      <td>...</td>\n",
       "      <td>...</td>\n",
       "      <td>...</td>\n",
       "      <td>...</td>\n",
       "    </tr>\n",
       "    <tr>\n",
       "      <th>48053</th>\n",
       "      <td>Zimbabwe</td>\n",
       "      <td>2018</td>\n",
       "      <td>ZWE</td>\n",
       "      <td>15052191.0</td>\n",
       "      <td>2.271535e+10</td>\n",
       "      <td>0.558</td>\n",
       "      <td>0.037</td>\n",
       "      <td>10.715</td>\n",
       "      <td>1.419</td>\n",
       "      <td>15.265</td>\n",
       "      <td>...</td>\n",
       "      <td>NaN</td>\n",
       "      <td>0.114</td>\n",
       "      <td>0.001</td>\n",
       "      <td>0.001</td>\n",
       "      <td>0.002</td>\n",
       "      <td>0.0</td>\n",
       "      <td>116.76</td>\n",
       "      <td>29.37</td>\n",
       "      <td>-0.088</td>\n",
       "      <td>-0.825</td>\n",
       "    </tr>\n",
       "    <tr>\n",
       "      <th>48054</th>\n",
       "      <td>Zimbabwe</td>\n",
       "      <td>2019</td>\n",
       "      <td>ZWE</td>\n",
       "      <td>15354606.0</td>\n",
       "      <td>NaN</td>\n",
       "      <td>0.473</td>\n",
       "      <td>0.031</td>\n",
       "      <td>9.775</td>\n",
       "      <td>-0.939</td>\n",
       "      <td>-8.765</td>\n",
       "      <td>...</td>\n",
       "      <td>NaN</td>\n",
       "      <td>0.113</td>\n",
       "      <td>0.001</td>\n",
       "      <td>0.001</td>\n",
       "      <td>0.002</td>\n",
       "      <td>0.0</td>\n",
       "      <td>116.03</td>\n",
       "      <td>28.70</td>\n",
       "      <td>0.143</td>\n",
       "      <td>1.463</td>\n",
       "    </tr>\n",
       "    <tr>\n",
       "      <th>48055</th>\n",
       "      <td>Zimbabwe</td>\n",
       "      <td>2020</td>\n",
       "      <td>ZWE</td>\n",
       "      <td>15669663.0</td>\n",
       "      <td>NaN</td>\n",
       "      <td>0.496</td>\n",
       "      <td>0.032</td>\n",
       "      <td>7.850</td>\n",
       "      <td>-1.926</td>\n",
       "      <td>-19.700</td>\n",
       "      <td>...</td>\n",
       "      <td>NaN</td>\n",
       "      <td>0.112</td>\n",
       "      <td>0.001</td>\n",
       "      <td>0.001</td>\n",
       "      <td>0.002</td>\n",
       "      <td>0.0</td>\n",
       "      <td>113.20</td>\n",
       "      <td>25.99</td>\n",
       "      <td>0.818</td>\n",
       "      <td>10.421</td>\n",
       "    </tr>\n",
       "    <tr>\n",
       "      <th>48056</th>\n",
       "      <td>Zimbabwe</td>\n",
       "      <td>2021</td>\n",
       "      <td>ZWE</td>\n",
       "      <td>15993525.0</td>\n",
       "      <td>NaN</td>\n",
       "      <td>0.531</td>\n",
       "      <td>0.033</td>\n",
       "      <td>8.396</td>\n",
       "      <td>0.547</td>\n",
       "      <td>6.962</td>\n",
       "      <td>...</td>\n",
       "      <td>NaN</td>\n",
       "      <td>0.111</td>\n",
       "      <td>0.001</td>\n",
       "      <td>0.001</td>\n",
       "      <td>0.002</td>\n",
       "      <td>0.0</td>\n",
       "      <td>NaN</td>\n",
       "      <td>NaN</td>\n",
       "      <td>1.088</td>\n",
       "      <td>12.956</td>\n",
       "    </tr>\n",
       "    <tr>\n",
       "      <th>48057</th>\n",
       "      <td>Zimbabwe</td>\n",
       "      <td>2022</td>\n",
       "      <td>ZWE</td>\n",
       "      <td>16320539.0</td>\n",
       "      <td>NaN</td>\n",
       "      <td>0.531</td>\n",
       "      <td>0.033</td>\n",
       "      <td>8.856</td>\n",
       "      <td>0.460</td>\n",
       "      <td>5.477</td>\n",
       "      <td>...</td>\n",
       "      <td>NaN</td>\n",
       "      <td>NaN</td>\n",
       "      <td>NaN</td>\n",
       "      <td>NaN</td>\n",
       "      <td>NaN</td>\n",
       "      <td>NaN</td>\n",
       "      <td>NaN</td>\n",
       "      <td>NaN</td>\n",
       "      <td>NaN</td>\n",
       "      <td>NaN</td>\n",
       "    </tr>\n",
       "  </tbody>\n",
       "</table>\n",
       "<p>48058 rows × 79 columns</p>\n",
       "</div>"
      ],
      "text/plain": [
       "           country  year iso_code  population           gdp  cement_co2  \\\n",
       "0      Afghanistan  1850      AFG   3752993.0           NaN         NaN   \n",
       "1      Afghanistan  1851      AFG   3767956.0           NaN         NaN   \n",
       "2      Afghanistan  1852      AFG   3783940.0           NaN         NaN   \n",
       "3      Afghanistan  1853      AFG   3800954.0           NaN         NaN   \n",
       "4      Afghanistan  1854      AFG   3818038.0           NaN         NaN   \n",
       "...            ...   ...      ...         ...           ...         ...   \n",
       "48053     Zimbabwe  2018      ZWE  15052191.0  2.271535e+10       0.558   \n",
       "48054     Zimbabwe  2019      ZWE  15354606.0           NaN       0.473   \n",
       "48055     Zimbabwe  2020      ZWE  15669663.0           NaN       0.496   \n",
       "48056     Zimbabwe  2021      ZWE  15993525.0           NaN       0.531   \n",
       "48057     Zimbabwe  2022      ZWE  16320539.0           NaN       0.531   \n",
       "\n",
       "       cement_co2_per_capita     co2  co2_growth_abs  co2_growth_prct  ...  \\\n",
       "0                        NaN     NaN             NaN              NaN  ...   \n",
       "1                        NaN     NaN             NaN              NaN  ...   \n",
       "2                        NaN     NaN             NaN              NaN  ...   \n",
       "3                        NaN     NaN             NaN              NaN  ...   \n",
       "4                        NaN     NaN             NaN              NaN  ...   \n",
       "...                      ...     ...             ...              ...  ...   \n",
       "48053                  0.037  10.715           1.419           15.265  ...   \n",
       "48054                  0.031   9.775          -0.939           -8.765  ...   \n",
       "48055                  0.032   7.850          -1.926          -19.700  ...   \n",
       "48056                  0.033   8.396           0.547            6.962  ...   \n",
       "48057                  0.033   8.856           0.460            5.477  ...   \n",
       "\n",
       "       share_global_other_co2  share_of_temperature_change_from_ghg  \\\n",
       "0                         NaN                                   NaN   \n",
       "1                         NaN                                 0.165   \n",
       "2                         NaN                                 0.164   \n",
       "3                         NaN                                 0.164   \n",
       "4                         NaN                                 0.163   \n",
       "...                       ...                                   ...   \n",
       "48053                     NaN                                 0.114   \n",
       "48054                     NaN                                 0.113   \n",
       "48055                     NaN                                 0.112   \n",
       "48056                     NaN                                 0.111   \n",
       "48057                     NaN                                   NaN   \n",
       "\n",
       "       temperature_change_from_ch4  temperature_change_from_co2  \\\n",
       "0                              NaN                          NaN   \n",
       "1                            0.000                        0.000   \n",
       "2                            0.000                        0.000   \n",
       "3                            0.000                        0.000   \n",
       "4                            0.000                        0.000   \n",
       "...                            ...                          ...   \n",
       "48053                        0.001                        0.001   \n",
       "48054                        0.001                        0.001   \n",
       "48055                        0.001                        0.001   \n",
       "48056                        0.001                        0.001   \n",
       "48057                          NaN                          NaN   \n",
       "\n",
       "       temperature_change_from_ghg  temperature_change_from_n2o  total_ghg  \\\n",
       "0                              NaN                          NaN        NaN   \n",
       "1                            0.000                          0.0        NaN   \n",
       "2                            0.000                          0.0        NaN   \n",
       "3                            0.000                          0.0        NaN   \n",
       "4                            0.000                          0.0        NaN   \n",
       "...                            ...                          ...        ...   \n",
       "48053                        0.002                          0.0     116.76   \n",
       "48054                        0.002                          0.0     116.03   \n",
       "48055                        0.002                          0.0     113.20   \n",
       "48056                        0.002                          0.0        NaN   \n",
       "48057                          NaN                          NaN        NaN   \n",
       "\n",
       "       total_ghg_excluding_lucf  trade_co2  trade_co2_share  \n",
       "0                           NaN        NaN              NaN  \n",
       "1                           NaN        NaN              NaN  \n",
       "2                           NaN        NaN              NaN  \n",
       "3                           NaN        NaN              NaN  \n",
       "4                           NaN        NaN              NaN  \n",
       "...                         ...        ...              ...  \n",
       "48053                     29.37     -0.088           -0.825  \n",
       "48054                     28.70      0.143            1.463  \n",
       "48055                     25.99      0.818           10.421  \n",
       "48056                       NaN      1.088           12.956  \n",
       "48057                       NaN        NaN              NaN  \n",
       "\n",
       "[48058 rows x 79 columns]"
      ]
     },
     "execution_count": 2,
     "metadata": {},
     "output_type": "execute_result"
    }
   ],
   "source": [
    "data = pd.read_csv(\"owid-co2-data.csv\", delimiter=\",\", header=0)\n",
    "data"
   ]
  },
  {
   "cell_type": "markdown",
   "metadata": {},
   "source": [
    "Séparation de la liste des colonnes catégoriels et numériques."
   ]
  },
  {
   "cell_type": "code",
   "execution_count": 3,
   "metadata": {},
   "outputs": [
    {
     "name": "stdout",
     "output_type": "stream",
     "text": [
      "Colonnes numériques: ['year', 'population', 'gdp', 'cement_co2', 'cement_co2_per_capita', 'co2', 'co2_growth_abs', 'co2_growth_prct', 'co2_including_luc', 'co2_including_luc_growth_abs', 'co2_including_luc_growth_prct', 'co2_including_luc_per_capita', 'co2_including_luc_per_gdp', 'co2_including_luc_per_unit_energy', 'co2_per_capita', 'co2_per_gdp', 'co2_per_unit_energy', 'coal_co2', 'coal_co2_per_capita', 'consumption_co2', 'consumption_co2_per_capita', 'consumption_co2_per_gdp', 'cumulative_cement_co2', 'cumulative_co2', 'cumulative_co2_including_luc', 'cumulative_coal_co2', 'cumulative_flaring_co2', 'cumulative_gas_co2', 'cumulative_luc_co2', 'cumulative_oil_co2', 'cumulative_other_co2', 'energy_per_capita', 'energy_per_gdp', 'flaring_co2', 'flaring_co2_per_capita', 'gas_co2', 'gas_co2_per_capita', 'ghg_excluding_lucf_per_capita', 'ghg_per_capita', 'land_use_change_co2', 'land_use_change_co2_per_capita', 'methane', 'methane_per_capita', 'nitrous_oxide', 'nitrous_oxide_per_capita', 'oil_co2', 'oil_co2_per_capita', 'other_co2_per_capita', 'other_industry_co2', 'primary_energy_consumption', 'share_global_cement_co2', 'share_global_co2', 'share_global_co2_including_luc', 'share_global_coal_co2', 'share_global_cumulative_cement_co2', 'share_global_cumulative_co2', 'share_global_cumulative_co2_including_luc', 'share_global_cumulative_coal_co2', 'share_global_cumulative_flaring_co2', 'share_global_cumulative_gas_co2', 'share_global_cumulative_luc_co2', 'share_global_cumulative_oil_co2', 'share_global_cumulative_other_co2', 'share_global_flaring_co2', 'share_global_gas_co2', 'share_global_luc_co2', 'share_global_oil_co2', 'share_global_other_co2', 'share_of_temperature_change_from_ghg', 'temperature_change_from_ch4', 'temperature_change_from_co2', 'temperature_change_from_ghg', 'temperature_change_from_n2o', 'total_ghg', 'total_ghg_excluding_lucf', 'trade_co2', 'trade_co2_share']\n",
      "Colonnes catégoriels: ['country', 'iso_code']\n"
     ]
    }
   ],
   "source": [
    "columns_numerics = data.dtypes[data.dtypes != \"object\"].index.to_list()\n",
    "columns_categoriels = data.dtypes[data.dtypes == 'object'].index.to_list()\n",
    "print(\"Colonnes numériques:\", columns_numerics)\n",
    "print(\"Colonnes catégoriels:\", columns_categoriels)"
   ]
  },
  {
   "cell_type": "code",
   "execution_count": 4,
   "metadata": {},
   "outputs": [],
   "source": [
    "def valeurs_manquantes(data, drop_zero_missed_column=True):\n",
    "    m,_ = data.shape\n",
    "    missing_values = data.isnull().sum()\n",
    "    if drop_zero_missed_column: missing_values = missing_values[missing_values > 0]\n",
    "    return ((missing_values / m) * 100).round(2).to_frame(name=\"% Pourcentages\")\n",
    "\n",
    "def plot_histogram(donnees_manquantes, x=\"Variables\", y=\"% Pourcentages\"):\n",
    "    plt.figure()\n",
    "    couleurs = ['skyblue', 'lightcoral', 'lightgreen', 'lightpink', 'lightsalmon']\n",
    "    donnees_manquantes.plot.barh(x=x, y=y, color=couleurs, legend=False)\n",
    "    plt.title('Pourcentage des Valeurs Manquantes par Variable')\n",
    "    plt.xlabel('Variables')\n",
    "    plt.ylabel('Pourcentage de Valeurs Manquantes (%)')\n",
    "    plt.show()\n",
    "\n",
    "donnees_manquantes = valeurs_manquantes(data)\n",
    "columns_missed = donnees_manquantes.index.to_list()"
   ]
  },
  {
   "cell_type": "markdown",
   "metadata": {},
   "source": [
    "# Prétraitement"
   ]
  },
  {
   "cell_type": "markdown",
   "metadata": {},
   "source": [
    "## Traitement des donnnées manquantes"
   ]
  },
  {
   "cell_type": "markdown",
   "metadata": {},
   "source": [
    "#### **Traitement de la colonne cible ***co2*****\n",
    "\n",
    "Comme mentionné dans la section sur la visualisation et les remarques concernant la colonne cible, avant d'entamer le prétraitement des valeurs manquantes, nous commencerons par éliminer les données manquantes de cette colonne et supprimer les doublons. Il convient de noter que cette colonne présente peu de valeurs manquantes et que notre ensemble de données contient suffisamment d'échantillons. Par conséquent, cela n'aura qu'un impact mineur sur notre jeu de données."
   ]
  },
  {
   "cell_type": "code",
   "execution_count": 5,
   "metadata": {},
   "outputs": [
    {
     "name": "stdout",
     "output_type": "stream",
     "text": [
      "Ancien dimension = 48058 × 79\n",
      "Nouvelle dimension = 30308 × 79\n",
      "Pourcentage des lignes supprimées = 37 %\n"
     ]
    }
   ],
   "source": [
    "data = data.dropna(subset=[\"co2\"])\n",
    "data = data.drop_duplicates()\n",
    "print(\"Ancien dimension = 48058 × 79\")\n",
    "print(\"Nouvelle dimension = {} × 79\".format(data.shape[0]))\n",
    "print(\"Pourcentage des lignes supprimées = {} %\".format(round((1 - (data.shape[0] / 48058)) * 100), 2))"
   ]
  },
  {
   "cell_type": "markdown",
   "metadata": {},
   "source": [
    "Ainsi, il est à noter que seules 37 % des lignes ont été supprimées, ce qui est négligeable compte tenu de la taille de l'ensemble de données"
   ]
  },
  {
   "cell_type": "markdown",
   "metadata": {},
   "source": [
    "**Eliminer les colonnes de plus de 60% de valeurs manquantes.**\n",
    "\n",
    "Avec une colonne présentant plus de 60 % de données manquantes, il serait très risqué d'essayer d'effectuer une imputation pour conserver ces colonnes. De plus, comme l'ont montré les observations de nos données, certaines colonnes ayant un faible nombre de valeurs manquantes sont calculées à partir d'autres colonnes. Par exemple, le cumul des émissions de CO2 des voitures depuis la première année peut remplacer les données manquantes concernant la production de CO2 par les voitures. Ainsi, en éliminant ces colonnes, la perte de données peut être considérée comme acceptable."
   ]
  },
  {
   "cell_type": "code",
   "execution_count": 6,
   "metadata": {},
   "outputs": [
    {
     "name": "stdout",
     "output_type": "stream",
     "text": [
      "Nous avons 30308 lignes et 56 colonnes restantes, ce qui signifie que 29.11 % des colonnes ont été supprimées.\n"
     ]
    }
   ],
   "source": [
    "missing_values = valeurs_manquantes(data)\n",
    "missed_columns = missing_values[missing_values[\"% Pourcentages\"] > 60].index.to_list()\n",
    "data_cleared = data.drop(columns=missed_columns)\n",
    "data_cleared = data_cleared.drop_duplicates()\n",
    "print(\"Nous avons {} lignes et {} colonnes restantes, ce qui signifie que {} % des colonnes ont été supprimées.\".format(\n",
    "    data_cleared.shape[0], data_cleared.shape[1], round((1 - (data_cleared.shape[1] / 79)) * 100, 2)))"
   ]
  },
  {
   "cell_type": "markdown",
   "metadata": {},
   "source": [
    "Ainsi, après l'élimination, nous constatons que seulement 29,11 % des colonnes ont été supprimées. De plus, nous notons qu'il n'y a pas eu de perte de données due aux doublons, ce qui est très positif pour la suite du prétraitement."
   ]
  },
  {
   "cell_type": "markdown",
   "metadata": {},
   "source": [
    "#### Traitement des valeurs manquantes dans des colonnes symétriques."
   ]
  },
  {
   "cell_type": "markdown",
   "metadata": {},
   "source": [
    "Cette section se concentrera sur les colonnes présentant des données manquantes qui suivent une distribution symétrique, comme nous l'avons observé lors de la visualisation des données."
   ]
  },
  {
   "cell_type": "code",
   "execution_count": 7,
   "metadata": {},
   "outputs": [
    {
     "data": {
      "text/plain": [
       "(30308, 53)"
      ]
     },
     "execution_count": 7,
     "metadata": {},
     "output_type": "execute_result"
    }
   ],
   "source": [
    "data_cleared_numerics = data_cleared.drop(columns=['country', 'iso_code', 'co2'])\n",
    "data_cleared_numerics.shape"
   ]
  },
  {
   "cell_type": "markdown",
   "metadata": {},
   "source": [
    "Pour identifier les colonnes présentant des distributions symétriques et asymétriques ainsi que les taux de valeurs aberrantes, nous utilisons les méthodes skew et kurtosis de pandas pour filtrer les colonnes. Cependant, avant d'appliquer ce filtre, nous retirons les données aberrantes des colonnes afin d'éviter toute introduction de biais dans le traitement de la distribution."
   ]
  },
  {
   "cell_type": "code",
   "execution_count": 8,
   "metadata": {},
   "outputs": [
    {
     "data": {
      "text/plain": [
       "[('co2_growth_prct', 4.1566489021043),\n",
       " ('co2_including_luc_growth_prct', 0.7632530763994345),\n",
       " ('cumulative_flaring_co2', 0.0),\n",
       " ('flaring_co2', 0.0),\n",
       " ('flaring_co2_per_capita', 0.0),\n",
       " ('temperature_change_from_n2o', 0.0)]"
      ]
     },
     "execution_count": 8,
     "metadata": {},
     "output_type": "execute_result"
    }
   ],
   "source": [
    "means_imputations_columns = []\n",
    "hight_outlier_columns = []\n",
    "\n",
    "# Afficher la distribution de chaque colonne\n",
    "for i, column in enumerate(data_cleared_numerics.columns):\n",
    "    # Filtrer les valeurs aberrantes\n",
    "    serie = data_cleared_numerics[column].dropna()\n",
    "    Q1 = serie.quantile(0.25)\n",
    "    Q3 = serie.quantile(0.75)\n",
    "    IQR = Q3 - Q1\n",
    "    serie_filtre = serie[(serie >= Q1 - 1.5 * IQR) & (serie <= Q3 + 1.5 * IQR)]\n",
    "    \n",
    "    # Calculer le coefficient d'asymétrie (skewness) pour chaque colonne\n",
    "    # Filtrer les colonnes avec des valeurs proches de zéro pour skewness et de trois pour kurtosis pour trouver\n",
    "    # pour trouver les colonnes relativement symétriques.\n",
    "    if (abs(serie_filtre.skew()) < 0.5) & (abs(serie_filtre.kurtosis()) - 3 < 0.5):\n",
    "        means_imputations_columns.append((column, serie_filtre.mean()))\n",
    "    elif (1 - (serie_filtre.shape[0] / serie.shape[0])) * 100 > 15:\n",
    "        hight_outlier_columns.append(column)\n",
    "means_imputations_columns"
   ]
  },
  {
   "cell_type": "markdown",
   "metadata": {},
   "source": [
    "Nous avons identifié 6 colonnes présentant une distribution symétrique. Pour ces colonnes, nous utiliserons l'imputation par la moyenne, conformément à ce qui a été expliqué dans la section sur les méthodes d'imputation de la visualisation."
   ]
  },
  {
   "cell_type": "code",
   "execution_count": 9,
   "metadata": {},
   "outputs": [],
   "source": [
    "for column, _mean in means_imputations_columns:\n",
    "    data_cleared[column] = data_cleared[column].fillna(_mean)"
   ]
  },
  {
   "cell_type": "markdown",
   "metadata": {},
   "source": [
    "***Nous vérifions que toutes les données de ces 6 colonnes ont été correctement traitées.***"
   ]
  },
  {
   "cell_type": "code",
   "execution_count": 10,
   "metadata": {},
   "outputs": [
    {
     "data": {
      "text/plain": [
       "co2_growth_prct                  0\n",
       "co2_including_luc_growth_prct    0\n",
       "cumulative_flaring_co2           0\n",
       "flaring_co2                      0\n",
       "flaring_co2_per_capita           0\n",
       "temperature_change_from_n2o      0\n",
       "dtype: int64"
      ]
     },
     "execution_count": 10,
     "metadata": {},
     "output_type": "execute_result"
    }
   ],
   "source": [
    "columns_means_imputed = [column for column, _ in means_imputations_columns]\n",
    "data_cleared[columns_means_imputed].isnull().sum()"
   ]
  },
  {
   "cell_type": "markdown",
   "metadata": {},
   "source": [
    "#### Traitement des valeurs manquantes dans des colonnes avec des distributions asymétriques avec des valeurs aberrantes élevées."
   ]
  },
  {
   "cell_type": "markdown",
   "metadata": {},
   "source": [
    "Dans la section précédente, lors de la recherche des colonnes présentant des distributions asymétriques, nous avons dressé la liste des colonnes avec plus de 15 % de valeurs aberrantes. Dans cette section, nous allons appliquer une imputation en utilisant la méthode K-NN avec k = 2, comme discuté dans la section sur la visualisation."
   ]
  },
  {
   "cell_type": "code",
   "execution_count": 11,
   "metadata": {},
   "outputs": [
    {
     "data": {
      "text/plain": [
       "population                                   0\n",
       "cement_co2                                   0\n",
       "co2_growth_abs                               0\n",
       "co2_including_luc                            0\n",
       "co2_including_luc_growth_abs                 0\n",
       "coal_co2                                     0\n",
       "cumulative_cement_co2                        0\n",
       "cumulative_co2                               0\n",
       "cumulative_co2_including_luc                 0\n",
       "cumulative_coal_co2                          0\n",
       "cumulative_gas_co2                           0\n",
       "cumulative_luc_co2                           0\n",
       "cumulative_oil_co2                           0\n",
       "gas_co2                                      0\n",
       "gas_co2_per_capita                           0\n",
       "land_use_change_co2                          0\n",
       "oil_co2                                      0\n",
       "share_global_cement_co2                      0\n",
       "share_global_co2                             0\n",
       "share_global_co2_including_luc               0\n",
       "share_global_coal_co2                        0\n",
       "share_global_cumulative_cement_co2           0\n",
       "share_global_cumulative_co2                  0\n",
       "share_global_cumulative_co2_including_luc    0\n",
       "share_global_cumulative_coal_co2             0\n",
       "share_global_cumulative_flaring_co2          0\n",
       "share_global_cumulative_gas_co2              0\n",
       "share_global_cumulative_luc_co2              0\n",
       "share_global_cumulative_oil_co2              0\n",
       "share_global_flaring_co2                     0\n",
       "share_global_gas_co2                         0\n",
       "share_global_luc_co2                         0\n",
       "share_global_oil_co2                         0\n",
       "share_of_temperature_change_from_ghg         0\n",
       "temperature_change_from_ch4                  0\n",
       "temperature_change_from_co2                  0\n",
       "dtype: int64"
      ]
     },
     "execution_count": 11,
     "metadata": {},
     "output_type": "execute_result"
    }
   ],
   "source": [
    "imputer = KNNImputer(n_neighbors=2)\n",
    "\n",
    "# Application de l'imputation par k-nnn.\n",
    "X_imputed = imputer.fit_transform(data_cleared_numerics[hight_outlier_columns])\n",
    "X_imputed = pd.DataFrame(X_imputed, columns=data_cleared_numerics[hight_outlier_columns].columns)\n",
    "X_imputed.to_csv('X_imputed_knn.csv', index=False)\n",
    "X_imputed.isnull().sum()"
   ]
  },
  {
   "cell_type": "code",
   "execution_count": null,
   "metadata": {},
   "outputs": [],
   "source": [
    "X_imputed = pd.read_csv(\"X_imputed_knn.csv\", header=0)\n",
    "X_imputed.shape"
   ]
  },
  {
   "cell_type": "markdown",
   "metadata": {},
   "source": [
    "Vérification de l'éffectivité de l'imputation par K-NN."
   ]
  },
  {
   "cell_type": "markdown",
   "metadata": {},
   "source": [
    "Dans la section suivante, nous aborderons le traitement des colonnes qui ne répondent pas aux deux critères précédents. Pour ces colonnes, nous opterons pour une approche d'imputation itérative. Cette méthode, comme mentionné dans la section dédiée à la visualisation, implique un processus itératif où les valeurs manquantes sont estimées à l'aide des valeurs observées dans les autres colonnes. Nous explorerons en détail cette technique et son application spécifique à notre ensemble de données."
   ]
  },
  {
   "cell_type": "code",
   "execution_count": 12,
   "metadata": {},
   "outputs": [
    {
     "name": "stdout",
     "output_type": "stream",
     "text": [
      "Il reste 17 colonnes à imputer par itération\n"
     ]
    }
   ],
   "source": [
    "columns_imputed = means_imputations_columns + hight_outlier_columns\n",
    "other_columns = [column for column in data_cleared_numerics.columns if column not in columns_imputed]\n",
    "print(\"Il reste {} colonnes à imputer par itération.\".format(len(other_columns)))"
   ]
  },
  {
   "cell_type": "markdown",
   "metadata": {},
   "source": [
    "#### Imputation des colonnes restantes par la méthode itérative comme vue dans la section visualisation."
   ]
  },
  {
   "cell_type": "markdown",
   "metadata": {},
   "source": [
    "Dans cette section, nous appliquerons l'imputation itérative en utilisant la méthode IterativeImputer de sklearn sur les 17 colonnes numériques restantes à traiter."
   ]
  },
  {
   "cell_type": "markdown",
   "metadata": {},
   "source": [
    "L'imputation itérative permet de remplacer les valeurs manquantes dans un ensemble de données en utilisant un processus itératif. Il commence par remplacer les valeurs manquantes par des estimations initiales, puis ajuste un modèle prédictif aux données complètes pour prédire les valeurs manquantes. Ce processus est répété plusieurs fois jusqu'à ce que les valeurs imputées convergent vers des estimations finales. C'est utile lorsque les données sont complexes et que les valeurs manquantes sont présentes dans plusieurs colonnes."
   ]
  },
  {
   "cell_type": "code",
   "execution_count": 13,
   "metadata": {},
   "outputs": [
    {
     "data": {
      "text/plain": [
       "year                              0\n",
       "gdp                               0\n",
       "cement_co2_per_capita             0\n",
       "co2_growth_prct                   0\n",
       "co2_including_luc_growth_prct     0\n",
       "co2_including_luc_per_capita      0\n",
       "co2_including_luc_per_gdp         0\n",
       "co2_per_capita                    0\n",
       "co2_per_gdp                       0\n",
       "coal_co2_per_capita               0\n",
       "cumulative_flaring_co2            0\n",
       "flaring_co2                       0\n",
       "flaring_co2_per_capita            0\n",
       "land_use_change_co2_per_capita    0\n",
       "oil_co2_per_capita                0\n",
       "temperature_change_from_ghg       0\n",
       "temperature_change_from_n2o       0\n",
       "dtype: int64"
      ]
     },
     "execution_count": 13,
     "metadata": {},
     "output_type": "execute_result"
    }
   ],
   "source": [
    "imputer = IterativeImputer()\n",
    "\n",
    "# Inputation par la méthode itérative.\n",
    "result = imputer.fit_transform(data_cleared_numerics[other_columns])\n",
    "data_iterative_imputed = pd.DataFrame(result, columns = other_columns)\n",
    "data_iterative_imputed.isnull().sum()"
   ]
  },
  {
   "cell_type": "markdown",
   "metadata": {},
   "source": [
    "Toutes les 17 colonnes ont été imputées avec succès.\n",
    "\n",
    "Après l'application de la méthode itérative, toutes les valeurs manquantes ont été correctement imputées dans notre ensemble de données. Cette méthode a permis de remplacer les valeurs manquantes de manière efficace en utilisant un processus itératif qui prend en compte les relations entre les variables. Cette approche, nous avons pu maximiser l'utilisation des données disponibles tout en minimisant les biais introduits par les valeurs manquantes, ce qui renforce la robustesse de notre analyse."
   ]
  },
  {
   "cell_type": "code",
   "execution_count": 14,
   "metadata": {},
   "outputs": [
    {
     "data": {
      "text/plain": [
       "(30308, 56)"
      ]
     },
     "execution_count": 14,
     "metadata": {},
     "output_type": "execute_result"
    }
   ],
   "source": [
    "X_imputed_columns = X_imputed.columns.tolist()\n",
    "data_cleared_numerics[X_imputed_columns] = X_imputed.to_numpy()\n",
    "data_cleared_numerics[other_columns] = data_iterative_imputed.to_numpy()\n",
    "\n",
    "data_cleared[X_imputed_columns + other_columns] = data_cleared_numerics[X_imputed_columns + other_columns].to_numpy()\n",
    "data_cleared.shape"
   ]
  },
  {
   "cell_type": "code",
   "execution_count": 15,
   "metadata": {},
   "outputs": [
    {
     "data": {
      "text/html": [
       "<div>\n",
       "<style scoped>\n",
       "    .dataframe tbody tr th:only-of-type {\n",
       "        vertical-align: middle;\n",
       "    }\n",
       "\n",
       "    .dataframe tbody tr th {\n",
       "        vertical-align: top;\n",
       "    }\n",
       "\n",
       "    .dataframe thead th {\n",
       "        text-align: right;\n",
       "    }\n",
       "</style>\n",
       "<table border=\"1\" class=\"dataframe\">\n",
       "  <thead>\n",
       "    <tr style=\"text-align: right;\">\n",
       "      <th></th>\n",
       "      <th>country</th>\n",
       "      <th>year</th>\n",
       "      <th>iso_code</th>\n",
       "      <th>population</th>\n",
       "      <th>gdp</th>\n",
       "      <th>cement_co2</th>\n",
       "      <th>cement_co2_per_capita</th>\n",
       "      <th>co2</th>\n",
       "      <th>co2_growth_abs</th>\n",
       "      <th>co2_growth_prct</th>\n",
       "      <th>...</th>\n",
       "      <th>share_global_cumulative_oil_co2</th>\n",
       "      <th>share_global_flaring_co2</th>\n",
       "      <th>share_global_gas_co2</th>\n",
       "      <th>share_global_luc_co2</th>\n",
       "      <th>share_global_oil_co2</th>\n",
       "      <th>share_of_temperature_change_from_ghg</th>\n",
       "      <th>temperature_change_from_ch4</th>\n",
       "      <th>temperature_change_from_co2</th>\n",
       "      <th>temperature_change_from_ghg</th>\n",
       "      <th>temperature_change_from_n2o</th>\n",
       "    </tr>\n",
       "  </thead>\n",
       "  <tbody>\n",
       "    <tr>\n",
       "      <th>99</th>\n",
       "      <td>Afghanistan</td>\n",
       "      <td>1949.0</td>\n",
       "      <td>AFG</td>\n",
       "      <td>7356890.0</td>\n",
       "      <td>2.874382e+11</td>\n",
       "      <td>0.0</td>\n",
       "      <td>0.0</td>\n",
       "      <td>0.015</td>\n",
       "      <td>0.000</td>\n",
       "      <td>5.019109</td>\n",
       "      <td>...</td>\n",
       "      <td>0.0</td>\n",
       "      <td>0.0</td>\n",
       "      <td>0.0</td>\n",
       "      <td>0.118</td>\n",
       "      <td>0.000</td>\n",
       "      <td>0.129</td>\n",
       "      <td>0.0</td>\n",
       "      <td>0.0</td>\n",
       "      <td>0.000</td>\n",
       "      <td>0.0</td>\n",
       "    </tr>\n",
       "    <tr>\n",
       "      <th>100</th>\n",
       "      <td>Afghanistan</td>\n",
       "      <td>1950.0</td>\n",
       "      <td>AFG</td>\n",
       "      <td>7480464.0</td>\n",
       "      <td>9.421400e+09</td>\n",
       "      <td>0.0</td>\n",
       "      <td>0.0</td>\n",
       "      <td>0.084</td>\n",
       "      <td>0.070</td>\n",
       "      <td>475.000000</td>\n",
       "      <td>...</td>\n",
       "      <td>0.0</td>\n",
       "      <td>0.0</td>\n",
       "      <td>0.0</td>\n",
       "      <td>0.120</td>\n",
       "      <td>0.004</td>\n",
       "      <td>0.129</td>\n",
       "      <td>0.0</td>\n",
       "      <td>0.0</td>\n",
       "      <td>0.000</td>\n",
       "      <td>0.0</td>\n",
       "    </tr>\n",
       "    <tr>\n",
       "      <th>101</th>\n",
       "      <td>Afghanistan</td>\n",
       "      <td>1951.0</td>\n",
       "      <td>AFG</td>\n",
       "      <td>7571542.0</td>\n",
       "      <td>9.692280e+09</td>\n",
       "      <td>0.0</td>\n",
       "      <td>0.0</td>\n",
       "      <td>0.092</td>\n",
       "      <td>0.007</td>\n",
       "      <td>8.696000</td>\n",
       "      <td>...</td>\n",
       "      <td>0.0</td>\n",
       "      <td>0.0</td>\n",
       "      <td>0.0</td>\n",
       "      <td>0.132</td>\n",
       "      <td>0.004</td>\n",
       "      <td>0.129</td>\n",
       "      <td>0.0</td>\n",
       "      <td>0.0</td>\n",
       "      <td>0.001</td>\n",
       "      <td>0.0</td>\n",
       "    </tr>\n",
       "  </tbody>\n",
       "</table>\n",
       "<p>3 rows × 56 columns</p>\n",
       "</div>"
      ],
      "text/plain": [
       "         country    year iso_code  population           gdp  cement_co2  \\\n",
       "99   Afghanistan  1949.0      AFG   7356890.0  2.874382e+11         0.0   \n",
       "100  Afghanistan  1950.0      AFG   7480464.0  9.421400e+09         0.0   \n",
       "101  Afghanistan  1951.0      AFG   7571542.0  9.692280e+09         0.0   \n",
       "\n",
       "     cement_co2_per_capita    co2  co2_growth_abs  co2_growth_prct  ...  \\\n",
       "99                     0.0  0.015           0.000         5.019109  ...   \n",
       "100                    0.0  0.084           0.070       475.000000  ...   \n",
       "101                    0.0  0.092           0.007         8.696000  ...   \n",
       "\n",
       "     share_global_cumulative_oil_co2  share_global_flaring_co2  \\\n",
       "99                               0.0                       0.0   \n",
       "100                              0.0                       0.0   \n",
       "101                              0.0                       0.0   \n",
       "\n",
       "     share_global_gas_co2  share_global_luc_co2  share_global_oil_co2  \\\n",
       "99                    0.0                 0.118                 0.000   \n",
       "100                   0.0                 0.120                 0.004   \n",
       "101                   0.0                 0.132                 0.004   \n",
       "\n",
       "     share_of_temperature_change_from_ghg  temperature_change_from_ch4  \\\n",
       "99                                  0.129                          0.0   \n",
       "100                                 0.129                          0.0   \n",
       "101                                 0.129                          0.0   \n",
       "\n",
       "     temperature_change_from_co2  temperature_change_from_ghg  \\\n",
       "99                           0.0                        0.000   \n",
       "100                          0.0                        0.000   \n",
       "101                          0.0                        0.001   \n",
       "\n",
       "     temperature_change_from_n2o  \n",
       "99                           0.0  \n",
       "100                          0.0  \n",
       "101                          0.0  \n",
       "\n",
       "[3 rows x 56 columns]"
      ]
     },
     "execution_count": 15,
     "metadata": {},
     "output_type": "execute_result"
    }
   ],
   "source": [
    "data_cleared.head(3)"
   ]
  },
  {
   "cell_type": "markdown",
   "metadata": {},
   "source": [
    "#### Traitement des valeurs manquantes dans les colonnes catégorielles."
   ]
  },
  {
   "cell_type": "markdown",
   "metadata": {},
   "source": [
    "Parmi les colonnes catégorielles, seule la colonne iso_code, qui contient les codes des pays, présente des valeurs manquantes. Nous pouvons envisager de supprimer cette colonne car le code d'un pays n'est pas directement lié à la variable cible (co2) qui est l'émission de CO2. De plus, cette colonne fournit des informations redondantes par rapport à la colonne country, qui représente déjà les pays."
   ]
  },
  {
   "cell_type": "code",
   "execution_count": 16,
   "metadata": {},
   "outputs": [
    {
     "data": {
      "text/html": [
       "<div>\n",
       "<style scoped>\n",
       "    .dataframe tbody tr th:only-of-type {\n",
       "        vertical-align: middle;\n",
       "    }\n",
       "\n",
       "    .dataframe tbody tr th {\n",
       "        vertical-align: top;\n",
       "    }\n",
       "\n",
       "    .dataframe thead th {\n",
       "        text-align: right;\n",
       "    }\n",
       "</style>\n",
       "<table border=\"1\" class=\"dataframe\">\n",
       "  <thead>\n",
       "    <tr style=\"text-align: right;\">\n",
       "      <th></th>\n",
       "      <th>country</th>\n",
       "      <th>year</th>\n",
       "      <th>population</th>\n",
       "      <th>gdp</th>\n",
       "      <th>cement_co2</th>\n",
       "      <th>cement_co2_per_capita</th>\n",
       "      <th>co2</th>\n",
       "      <th>co2_growth_abs</th>\n",
       "      <th>co2_growth_prct</th>\n",
       "      <th>co2_including_luc</th>\n",
       "      <th>...</th>\n",
       "      <th>share_global_cumulative_oil_co2</th>\n",
       "      <th>share_global_flaring_co2</th>\n",
       "      <th>share_global_gas_co2</th>\n",
       "      <th>share_global_luc_co2</th>\n",
       "      <th>share_global_oil_co2</th>\n",
       "      <th>share_of_temperature_change_from_ghg</th>\n",
       "      <th>temperature_change_from_ch4</th>\n",
       "      <th>temperature_change_from_co2</th>\n",
       "      <th>temperature_change_from_ghg</th>\n",
       "      <th>temperature_change_from_n2o</th>\n",
       "    </tr>\n",
       "  </thead>\n",
       "  <tbody>\n",
       "    <tr>\n",
       "      <th>99</th>\n",
       "      <td>Afghanistan</td>\n",
       "      <td>1949.0</td>\n",
       "      <td>7356890.0</td>\n",
       "      <td>2.874382e+11</td>\n",
       "      <td>0.0</td>\n",
       "      <td>0.0</td>\n",
       "      <td>0.015</td>\n",
       "      <td>0.000</td>\n",
       "      <td>5.019109</td>\n",
       "      <td>6.268</td>\n",
       "      <td>...</td>\n",
       "      <td>0.0</td>\n",
       "      <td>0.0</td>\n",
       "      <td>0.0</td>\n",
       "      <td>0.118</td>\n",
       "      <td>0.000</td>\n",
       "      <td>0.129</td>\n",
       "      <td>0.0</td>\n",
       "      <td>0.0</td>\n",
       "      <td>0.000</td>\n",
       "      <td>0.0</td>\n",
       "    </tr>\n",
       "    <tr>\n",
       "      <th>100</th>\n",
       "      <td>Afghanistan</td>\n",
       "      <td>1950.0</td>\n",
       "      <td>7480464.0</td>\n",
       "      <td>9.421400e+09</td>\n",
       "      <td>0.0</td>\n",
       "      <td>0.0</td>\n",
       "      <td>0.084</td>\n",
       "      <td>0.070</td>\n",
       "      <td>475.000000</td>\n",
       "      <td>7.370</td>\n",
       "      <td>...</td>\n",
       "      <td>0.0</td>\n",
       "      <td>0.0</td>\n",
       "      <td>0.0</td>\n",
       "      <td>0.120</td>\n",
       "      <td>0.004</td>\n",
       "      <td>0.129</td>\n",
       "      <td>0.0</td>\n",
       "      <td>0.0</td>\n",
       "      <td>0.000</td>\n",
       "      <td>0.0</td>\n",
       "    </tr>\n",
       "    <tr>\n",
       "      <th>101</th>\n",
       "      <td>Afghanistan</td>\n",
       "      <td>1951.0</td>\n",
       "      <td>7571542.0</td>\n",
       "      <td>9.692280e+09</td>\n",
       "      <td>0.0</td>\n",
       "      <td>0.0</td>\n",
       "      <td>0.092</td>\n",
       "      <td>0.007</td>\n",
       "      <td>8.696000</td>\n",
       "      <td>8.232</td>\n",
       "      <td>...</td>\n",
       "      <td>0.0</td>\n",
       "      <td>0.0</td>\n",
       "      <td>0.0</td>\n",
       "      <td>0.132</td>\n",
       "      <td>0.004</td>\n",
       "      <td>0.129</td>\n",
       "      <td>0.0</td>\n",
       "      <td>0.0</td>\n",
       "      <td>0.001</td>\n",
       "      <td>0.0</td>\n",
       "    </tr>\n",
       "  </tbody>\n",
       "</table>\n",
       "<p>3 rows × 55 columns</p>\n",
       "</div>"
      ],
      "text/plain": [
       "         country    year  population           gdp  cement_co2  \\\n",
       "99   Afghanistan  1949.0   7356890.0  2.874382e+11         0.0   \n",
       "100  Afghanistan  1950.0   7480464.0  9.421400e+09         0.0   \n",
       "101  Afghanistan  1951.0   7571542.0  9.692280e+09         0.0   \n",
       "\n",
       "     cement_co2_per_capita    co2  co2_growth_abs  co2_growth_prct  \\\n",
       "99                     0.0  0.015           0.000         5.019109   \n",
       "100                    0.0  0.084           0.070       475.000000   \n",
       "101                    0.0  0.092           0.007         8.696000   \n",
       "\n",
       "     co2_including_luc  ...  share_global_cumulative_oil_co2  \\\n",
       "99               6.268  ...                              0.0   \n",
       "100              7.370  ...                              0.0   \n",
       "101              8.232  ...                              0.0   \n",
       "\n",
       "     share_global_flaring_co2  share_global_gas_co2  share_global_luc_co2  \\\n",
       "99                        0.0                   0.0                 0.118   \n",
       "100                       0.0                   0.0                 0.120   \n",
       "101                       0.0                   0.0                 0.132   \n",
       "\n",
       "     share_global_oil_co2  share_of_temperature_change_from_ghg  \\\n",
       "99                  0.000                                 0.129   \n",
       "100                 0.004                                 0.129   \n",
       "101                 0.004                                 0.129   \n",
       "\n",
       "     temperature_change_from_ch4  temperature_change_from_co2  \\\n",
       "99                           0.0                          0.0   \n",
       "100                          0.0                          0.0   \n",
       "101                          0.0                          0.0   \n",
       "\n",
       "     temperature_change_from_ghg  temperature_change_from_n2o  \n",
       "99                         0.000                          0.0  \n",
       "100                        0.000                          0.0  \n",
       "101                        0.001                          0.0  \n",
       "\n",
       "[3 rows x 55 columns]"
      ]
     },
     "execution_count": 16,
     "metadata": {},
     "output_type": "execute_result"
    }
   ],
   "source": [
    "data_cleared = data_cleared.drop(columns=[\"iso_code\"])\n",
    "data_cleared.head(3)"
   ]
  },
  {
   "cell_type": "markdown",
   "metadata": {},
   "source": [
    "# Traitement des valeurs abérrantes."
   ]
  },
  {
   "cell_type": "code",
   "execution_count": null,
   "metadata": {},
   "outputs": [],
   "source": [
    "means_imputations_columns = []\n",
    "hight_outlier_columns = []\n",
    "data_cleared_numerics = data_cleared[columns_numerics]\n",
    "\n",
    "# Afficher la distribution de chaque colonne\n",
    "for i, column in enumerate(.columns):\n",
    "    # Filtrer les valeurs aberrantes\n",
    "    serie = data_cleared_numerics[column].dropna()\n",
    "    Q1 = serie.quantile(0.25)\n",
    "    Q3 = serie.quantile(0.75)\n",
    "    IQR = Q3 - Q1\n",
    "    serie_filtre = serie[(serie >= Q1 - 1.5 * IQR) & (serie <= Q3 + 1.5 * IQR)]\n",
    "    \n",
    "    # Calculer le coefficient d'asymétrie (skewness) pour chaque colonne\n",
    "    # Filtrer les colonnes avec des valeurs proches de zéro pour skewness et de trois pour kurtosis pour trouver\n",
    "    # pour trouver les colonnes relativement symétriques.\n",
    "    if (abs(serie_filtre.skew()) < 0.5) & (abs(serie_filtre.kurtosis()) - 3 < 0.5):\n",
    "        means_imputations_columns.append((column, serie_filtre.mean()))\n",
    "    elif (1 - (serie_filtre.shape[0] / serie.shape[0])) * 100 > 15:\n",
    "        hight_outlier_columns.append(column)\n",
    "means_imputations_columns"
   ]
  }
 ],
 "metadata": {
  "kernelspec": {
   "display_name": ".venv",
   "language": "python",
   "name": "python3"
  },
  "language_info": {
   "codemirror_mode": {
    "name": "ipython",
    "version": 3
   },
   "file_extension": ".py",
   "mimetype": "text/x-python",
   "name": "python",
   "nbconvert_exporter": "python",
   "pygments_lexer": "ipython3",
   "version": "3.11.4"
  }
 },
 "nbformat": 4,
 "nbformat_minor": 2
}
